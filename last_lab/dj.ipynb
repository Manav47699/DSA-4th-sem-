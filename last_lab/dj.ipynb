{
 "cells": [
  {
   "cell_type": "code",
   "execution_count": null,
   "id": "e51dfe75",
   "metadata": {
    "vscode": {
     "languageId": "plaintext"
    }
   },
   "outputs": [],
   "source": [
    "G ={\n",
    "    's':{'t':10, 'y':5}\n",
    "    't':{'x':1, 'y': 2}\n",
    "    \n",
    "    'x':{'z':4}\n",
    "    'y':{'x':9, 'z':2, 't':3}\n",
    "    'z':{'x':6, 's':7}\n",
    "\n",
    "}"
   ]
  }
 ],
 "metadata": {
  "language_info": {
   "name": "python"
  }
 },
 "nbformat": 4,
 "nbformat_minor": 5
}
